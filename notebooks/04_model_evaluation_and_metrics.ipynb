{
 "cells": [
  {
   "cell_type": "markdown",
   "metadata": {},
   "source": [
    "# 📈 Model Evaluation & Metrics: Amazon Sales Regression\n",
    "\n",
    "## 🎯 Learning Objectives\n",
    "- Understand key regression evaluation metrics\n",
    "- Apply cross-validation for robust model assessment\n",
    "- Interpret results in a business context\n",
    "\n",
    "---"
   ]
  },
  {
   "cell_type": "markdown",
   "metadata": {},
   "source": [
    "## 📊 Key Regression Metrics\n",
    "- **MSE (Mean Squared Error)**: Average squared difference between actual and predicted values\n",
    "- **RMSE (Root Mean Squared Error)**: Square root of MSE, interpretable in target units\n",
    "- **MAE (Mean Absolute Error)**: Average absolute difference\n",
    "- **MAPE (Mean Absolute Percentage Error)**: Average absolute percent error\n",
    "- **R² (R-squared)**: Proportion of variance explained by the model\n",
    "- **Adjusted R²**: R² adjusted for number of predictors\n",
    "\n",
    "**Business Interpretation:**\n",
    "- Lower MSE, RMSE, MAE, and MAPE = better predictions\n",
    "- Higher R²/Adjusted R² = more variance explained\n",
    "- Use RMSE/MAE relative to average revenue for business impact\n"
   ]
  },
  {
   "cell_type": "code",
   "execution_count": null,
   "metadata": {},
   "outputs": [],
   "source": [
    "# Example: Evaluate a regression model\n",
    "from sklearn.metrics import mean_squared_error, mean_absolute_error, r2_score\n",
    "import numpy as np\n",
    "\n",
    "def regression_metrics(y_true, y_pred):\n",
    "    mse = mean_squared_error(y_true, y_pred)\n",
    "    rmse = np.sqrt(mse)\n",
    "    mae = mean_absolute_error(y_true, y_pred)\n",
    "    mape = np.mean(np.abs((y_true - y_pred) / y_true)) * 100\n",
    "    r2 = r2_score(y_true, y_pred)\n",
    "    n = len(y_true)\n",
    "    p = 1  # Set to number of features for multiple regression\n",
    "    adj_r2 = 1 - (1 - r2) * (n - 1) / (n - p - 1)\n",
    "    return {\n",
    "        'MSE': mse, 'RMSE': rmse, 'MAE': mae, 'MAPE': mape, 'R2': r2, 'Adj_R2': adj_r2\n",
    "    }\n",
    "\n",
    "# Example usage (replace with your model's predictions):\n",
    "y_true = np.array([100, 200, 300, 400, 500])\n",
    "y_pred = np.array([110, 190, 310, 390, 480])\n",
    "metrics = regression_metrics(y_true, y_pred)\n",
    "print(metrics)"
   ]
  },
  {
   "cell_type": "markdown",
   "metadata": {},
   "source": [
    "## 🔁 Cross-Validation\n",
    "- Splits data into multiple train/test sets\n",
    "- Reduces risk of overfitting\n",
    "- Common: K-Fold (e.g., 5-fold, 10-fold)\n",
    "\n",
    "**Business Value:**\n",
    "- Ensures model is robust and generalizes to new data\n",
    "- More reliable for business decision-making\n"
   ]
  },
  {
   "cell_type": "code",
   "execution_count": null,
   "metadata": {},
   "outputs": [],
   "source": [
    "from sklearn.model_selection import cross_val_score, KFold\n",
    "from sklearn.linear_model import LinearRegression\n",
    "\n",
    "# Example: 5-fold cross-validation\n",
    "X = np.random.rand(100, 2)  # Replace with your features\n",
    "y = np.random.rand(100)     # Replace with your target\n",
    "model = LinearRegression()\n",
    "cv = KFold(n_splits=5, shuffle=True, random_state=42)\n",
    "scores = cross_val_score(model, X, y, cv=cv, scoring='neg_mean_squared_error')\n",
    "rmse_scores = np.sqrt(-scores)\n",
    "print(f'Cross-validated RMSE: {rmse_scores.mean():.2f} ± {rmse_scores.std():.2f}')"
   ]
  },
  {
   "cell_type": "markdown",
   "metadata": {},
   "source": [
    "## 📉 Bias-Variance Tradeoff\n",
    "- **High Bias**: Underfitting, model too simple\n",
    "- **High Variance**: Overfitting, model too complex\n",
    "- **Goal**: Find the sweet spot for best generalization\n",
    "\n",
    "**Business Impact:**\n",
    "- Underfit: Missed opportunities, poor forecasts\n",
    "- Overfit: Bad business decisions from unreliable predictions\n"
   ]
  },
  {
   "cell_type": "markdown",
   "metadata": {},
   "source": [
    "## 🏆 Business Interpretation\n",
    "- Use metrics to communicate model value to stakeholders\n",
    "- Relate errors to business KPIs (e.g., RMSE as % of average sales)\n",
    "- Choose models that balance accuracy and interpretability\n",
    "\n",
    "---\n",
    "**Next:** Advanced topics: regularization, model drift, fine-tuning, and production!\n"
   ]
  }
 ],
 "metadata": {
  "kernelspec": {
   "display_name": "Python 3",
   "language": "python",
   "name": "python3"
  },
  "language_info": {
   "name": "python",
   "version": "3.8.5"
  }
 },
 "nbformat": 4,
 "nbformat_minor": 4
} 